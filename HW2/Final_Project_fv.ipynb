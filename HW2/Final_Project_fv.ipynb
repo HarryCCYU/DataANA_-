{
 "cells": [
  {
   "cell_type": "markdown",
   "metadata": {},
   "source": [
    "# 載入所需套件"
   ]
  },
  {
   "cell_type": "code",
   "execution_count": 1,
   "metadata": {},
   "outputs": [],
   "source": [
    "import os,re\n",
    "import pandas as pd\n",
    "import numpy as np\n",
    "import matplotlib.pyplot as plt\n",
    "import requests\n",
    "from bs4 import BeautifulSoup\n",
    "from sklearn.linear_model import LinearRegression\n",
    "import statsmodels.api as sm\n",
    "from scipy import stats"
   ]
  },
  {
   "cell_type": "markdown",
   "metadata": {},
   "source": [
    "# 爬蟲\n",
    "### key = 搜尋關鍵字\n",
    "### 注意! 本爬蟲為關閉SSL驗證拜訪網站，如怕不安全請勿使用，SSL版本待更新"
   ]
  },
  {
   "cell_type": "code",
   "execution_count": null,
   "metadata": {},
   "outputs": [],
   "source": [
    "rs = requests.session()\n",
    "key = '民法第1052條'\n",
    "def get_hrefs_from_page(url,y,rs=rs):\n",
    "    html = rs.get(url)\n",
    "    soup = BeautifulSoup(html.text,'lxml')\n",
    "    jud = soup.select('div td .hlTitle_scroll')\n",
    "    for j in jud:\n",
    "        jud_url = 'https://law.judicial.gov.tw/FJUD/' + j['href']\n",
    "        write_data(jud_url,j.text,y)\n",
    "    try:\n",
    "        next_page_url = soup.select_one('div span #hlNext')['href'] \n",
    "        next_page_url = 'https://law.judicial.gov.tw' + next_page_url\n",
    "        get_hrefs_from_page(next_page_url,y)\n",
    "    except:\n",
    "        print('end of track')\n",
    "    \n",
    "def write_data(url,title,y,rs=rs):\n",
    "    \n",
    "    html = rs.get(url)\n",
    "    soup = BeautifulSoup(html.text,'lxml')\n",
    "    jud_data = soup.select('div #jud')[0].text\n",
    "    with open('C:/Users/HARRY/Desktop/judfiles1052/judfileten-1-10/jud{}/{}.txt'.format(y,title),'w',encoding='utf-8') as w:\n",
    "        try:\n",
    "            w.write(jud_data)\n",
    "        except:\n",
    "            w.write(jud_data.encode('utf8').decode('cp950','ignore'))\n",
    "\n",
    "        \n",
    "def Scrapy_jud_by_time(y,m1,m2,rs = rs):\n",
    "    print(y,m1,m2)\n",
    "    payload = {'__VIEWSTATE': 'N3fFhsqgHd0Sc2gaoTlLsrSJ9aEEKoysVptxdtr8zLKjvp2M/jCR5RCSmpXJ89MPjF7+mjJDsmX5J22XVPNO5RwJViAqekSnf6oMKQgeqJq5gLef8MC1eMkXZD/cdNVq9Kofz9QK43fWbOiipmm0jC/22repThRVTAhQrLhvBDThSUUfigaGFXqhp6djdofd4Kxm+ktpqFUdQFDI',\n",
    "               '__VIEWSTATEGENERATOR': 'CCE6FCB1',\n",
    "               '__VIEWSTATEENCRYPTED':'' ,\n",
    "               '__EVENTVALIDATION': '9dHMXs6PjqxeOaVFORh+4Z83tyIDGL4XtlQaIAiMe5T+IsyUgx+7aaud7cwEk7u76dHZ8Qf7pqw65xuhwBWloEoN24c=',\n",
    "               'jud_court': 'TPD,SLD,PCD,ILD,KLD,TYD,SCD,MLD,TCD,CHD,NTD,ULD,CYD,TND,KSD,CTD,HLD,TTD,PTD,PHD,KMD,LCD',\n",
    "               'jud_sys': 'V',\n",
    "            'jud_year': '',\n",
    "            'sel_judword':'', \n",
    "            'jud_case':'', \n",
    "            'jud_no':'' ,\n",
    "            'jud_no_end':'', \n",
    "            'dy1': '{}'.format(y),\n",
    "            'dm1': '{}'.format(m1),\n",
    "            'dd1': '01',\n",
    "            'dy2': '{}'.format(y),\n",
    "            'dm2': '{}'.format(m2),\n",
    "            'dd2': '31',\n",
    "            'jud_title':'' ,\n",
    "            'jud_jmain': '',\n",
    "            'jud_kw': key,\n",
    "            'judtype': 'JUDBOOK',\n",
    "            'whosub': '0',\n",
    "            'ctl00$cp_content$btnQry': '送出查詢'}\n",
    "\n",
    "    html = rs.post(\"https://law.judicial.gov.tw/FJUD/default_accfree.aspx\",data = payload,verify = False)\n",
    "    soup = BeautifulSoup(html.text,'lxml')\n",
    "    connect = soup.select(\".main-section > iframe\")[0]['src']\n",
    "    url = 'https://law.judicial.gov.tw/FJUD/' + str(connect)\n",
    "    get_hrefs_from_page(url,y)\n",
    "    \n",
    "if __name__ == \"__main__\":\n",
    "    rs = requests.session()\n",
    "    y_list = list();m_list = list();\n",
    "    y_list = ['108','107','106','105','104','103','102','101','100']\n",
    "    m_list = ['01','02','03','04','05','06','07','08','09','10','11','12']\n",
    "    for y in y_list:\n",
    "        if y == '108':\n",
    "            for m in range(0,5,2):  \n",
    "                Scrapy_jud_by_time(y,m_list[m],m_list[m+1])  \n",
    "        else:\n",
    "            for m in range(0,11,2):  \n",
    "                Scrapy_jud_by_time(y,m_list[m],m_list[m+1])"
   ]
  },
  {
   "cell_type": "markdown",
   "metadata": {},
   "source": [
    "# 刪除非離婚訴訟的官司\n",
    "### deletdata參數為判決書中間字詞，例如:臺灣屏東地方法院 101 年度 婚 字第 96 號民事判決 的婚字"
   ]
  },
  {
   "cell_type": "code",
   "execution_count": null,
   "metadata": {},
   "outputs": [],
   "source": [
    "def deletdata(word):\n",
    "    data = pd.read_csv('C:/Users/HARRY/Desktop/judten.csv')\n",
    "    df = pd.DataFrame(data)\n",
    "    for case in range(len(df)):\n",
    "        if word in df['jud'][case]:\n",
    "            df = df.drop(index = case)\n",
    "    df.to_csv('C:/Users/HARRY/Desktop/judten.csv',encoding='utf_8_sig',index=False)\n",
    "    return df"
   ]
  },
  {
   "cell_type": "markdown",
   "metadata": {},
   "source": [
    "# 創建csv檔"
   ]
  },
  {
   "cell_type": "code",
   "execution_count": null,
   "metadata": {},
   "outputs": [],
   "source": [
    "'''\n",
    "一、民法第1052條第1項\n",
    "    A:一、重婚。\n",
    "    B:二、與配偶以外之人合意性交。\n",
    "    C:三、夫妻之一方對他方為不堪同居之虐待。\n",
    "    D:四、夫妻之一方對他方之直系親屬為虐待，或夫妻一方之直系親屬對他方\n",
    "        為虐待，致不堪為共同生活。\n",
    "    E:五、夫妻之一方以惡意遺棄他方在繼續狀態中。\n",
    "    F:六、夫妻之一方意圖殺害他方。\n",
    "    G:七、有不治之惡疾。\n",
    "    H:八、有重大不治之精神病。\n",
    "    I:九、生死不明已逾三年。\n",
    "    J:十、因故意犯罪，經判處有期徒刑逾六個月確定。\n",
    "\n",
    "二、民法第1052條第2項\n",
    "    A:同居不履行、分居\n",
    "    B:教養觀念差異過大\n",
    "    C:感情破裂\n",
    "    D:金錢觀差距\n",
    "    E:不事生產\n",
    "    F:賭博\n",
    "    G:行方不明\n",
    "'''\n",
    "column = ['A','B','C','D','E','F','G']\n",
    "\n",
    "jud_name = list()\n",
    "dirs = os.listdir(path of judfileten)\n",
    "for d in dirs:\n",
    "    files = os.listdir(path of judfileten+'{}'.format(d))\n",
    "    for file in files:\n",
    "        jud_name.append(file.replace('.txt',''))\n",
    "\n",
    "        \n",
    "        \n",
    "df = pd.DataFrame()\n",
    "df['jud'] = jud_name\n",
    "df['1052-1-1'] = 0\n",
    "df['1052-1-2'] = 0\n",
    "df['1052-1-3'] = 0\n",
    "df['1052-1-4'] = 0\n",
    "df['1052-1-5'] = 0\n",
    "df['1052-1-6'] = 0\n",
    "df['1052-1-7'] = 0\n",
    "df['1052-1-8'] = 0\n",
    "df['1052-1-9'] = 0\n",
    "df['1052-1-10'] = 0\n",
    "df['1052-2-A'] = 0\n",
    "df['1052-2-B'] = 0\n",
    "df['1052-2-C'] = 0\n",
    "df['1052-2-D'] = 0\n",
    "df['1052-2-E'] = 0\n",
    "df['1052-2-F'] = 0\n",
    "df['1052-2-G'] = 0\n",
    "#df.to_csv(path of csv,encoding='utf_8_sig',index=False) #初始的dataframe寫入csv"
   ]
  },
  {
   "cell_type": "markdown",
   "metadata": {},
   "source": [
    "# 將判決有包含1052-1、1052-2以及1052-1-1~1052-1-10的各自column改成1\n",
    "### 注意! 1052-1 與 1052-1-1的差別，前者為民法第1052條第1項，後者為民法第1052條第1項第1款"
   ]
  },
  {
   "cell_type": "code",
   "execution_count": null,
   "metadata": {},
   "outputs": [],
   "source": [
    "data = pd.read_csv(path of csv)\n",
    "df = pd.DataFrame(data)\n",
    "dirs = os.listdir(path of that directory)\n",
    "for d in dirs:\n",
    "    files = os.listdir(path of that directory+'{}'.format(d))\n",
    "    for file in files:\n",
    "        rowid = df[df['jud'] == file.replace('.txt','')].index\n",
    "        print(d,file)\n",
    "        df[column name][rowid] = 1\n",
    "df.head()"
   ]
  },
  {
   "cell_type": "markdown",
   "metadata": {},
   "source": [
    "# 將判決有包含1052-2且根據我們定義的原因column改成1\n",
    "### reason為原因 可參照上方A~G"
   ]
  },
  {
   "cell_type": "code",
   "execution_count": null,
   "metadata": {},
   "outputs": [],
   "source": [
    "reason = '行方不明'\n",
    "bit = 'G'\n",
    "def create_1052_2(word,col):\n",
    "    for i in range(len(df)):\n",
    "        if df['1052-2'][i] == 1:\n",
    "            with open(path of judfileten+'{}/{}.txt'.format(df['judfile'][i],df['jud'][i]),'r',encoding='utf-8') as r:\n",
    "                for text in r:\n",
    "                    if word in text.strip():\n",
    "                        df['1052-2-{}'.format(col)][i] = 1\n",
    "                        break\n",
    "create_1052_2(reason,bit)\n",
    "df.head()"
   ]
  },
  {
   "cell_type": "markdown",
   "metadata": {},
   "source": [
    "# 判別是勝訴或敗訴"
   ]
  },
  {
   "cell_type": "code",
   "execution_count": null,
   "metadata": {},
   "outputs": [],
   "source": [
    "index_list = problem1.index\n",
    "for i in index_list:\n",
    "#     print(i,df['jud'][i])\n",
    "    flagw = 0\n",
    "    flagl = 0\n",
    "    with open('C:/Users/HARRY/Desktop/judfileten/{}/{}.txt'.format(df['judfile'][i],df['jud'][i]),'r',encoding='utf-8') as r:\n",
    "        df['win'][i] = 0\n",
    "\n",
    "        for text in r:\n",
    "            if flag>0:\n",
    "#                 print(text.strip())\n",
    "                if '准原告與被告離婚' in text.strip():\n",
    "                    print(i)\n",
    "                    df['win'][i] = 1\n",
    "                flag =  flag - 1\n",
    "            if re.search(r'主.*文',text.strip()):\n",
    "                flagw = 5\n",
    "\n",
    "        df['loss'][i] = 0\n",
    "        for text2 in r:\n",
    "            \n",
    "            if flag>0:\n",
    "#                 print(text2.strip())\n",
    "                if '駁回' in text2.strip():\n",
    "                    print(i)\n",
    "                    df['loss'][i] = 1\n",
    "                flag =  flag - 1\n",
    "            if re.search(r'主.*文',text2.strip()):\n",
    "                flagl = 5"
   ]
  },
  {
   "cell_type": "markdown",
   "metadata": {},
   "source": [
    "# 資料分析"
   ]
  },
  {
   "cell_type": "markdown",
   "metadata": {},
   "source": [
    "## 作圖區，由於csv以創建好，可以自行分析所需的部分，以下不一一解釋"
   ]
  },
  {
   "cell_type": "code",
   "execution_count": 2,
   "metadata": {},
   "outputs": [
    {
     "data": {
      "image/png": "[encoded data removed]",
      "text/plain": [
       "<Figure size 432x288 with 1 Axes>"
      ]
     },
     "metadata": {},
     "output_type": "display_data"
    }
   ],
   "source": [
    "data = pd.read_csv('C:/Users/HARRY/Desktop/judten.csv')\n",
    "df = pd.DataFrame(data)\n",
    "y = list();y1 = list();y2 = list();\n",
    "d_1052_1 = df['1052-1'] == 1\n",
    "d_1052_2 = df['1052-2'] == 1\n",
    "for year in range(100,109):\n",
    "    jf = df['judfile'] == 'jud{}'.format(year)\n",
    "    y.append(len(df[jf]))\n",
    "    y1.append(len(df[jf&d_1052_1]))\n",
    "    y2.append(len(df[jf&d_1052_2]))\n",
    "y = np.array(y)\n",
    "y1 = np.array(y1)\n",
    "y2 = np.array(y2)\n",
    "x = np.linspace(100,108,9)\n",
    "\n",
    "plt.title('Civil Law Article 1052')\n",
    "plt.xlabel('year')\n",
    "plt.ylabel('amount')\n",
    "plt.plot(x,y,'r')\n",
    "plt.plot(x,y1,'orange')\n",
    "plt.plot(x,y2,'g')\n",
    "for a, b in zip(x, y):\n",
    "    plt.text(a, b, b, ha='center', va='bottom', fontsize=7)\n",
    "for a, b in zip(x, y1):\n",
    "    plt.text(a, b, b, ha='center', va='bottom', fontsize=7)\n",
    "for a, b in zip(x, y2):\n",
    "    plt.text(a, b, b, ha='center', va='bottom', fontsize=7)\n",
    "plt.savefig('C:/Users/HARRY/Desktop/amount.png')\n",
    "plt.show()"
   ]
  },
  {
   "cell_type": "code",
   "execution_count": 6,
   "metadata": {},
   "outputs": [
    {
     "data": {
      "image/png": "[encoded data removed]",
      "text/plain": [
       "<Figure size 288x360 with 1 Axes>"
      ]
     },
     "metadata": {},
     "output_type": "display_data"
    }
   ],
   "source": [
    "y_win = pd.value_counts(df['win'])\n",
    "x = ['win','loss']\n",
    "plt.figure(figsize=(4,5))\n",
    "plt.title('Win v.s Loss')\n",
    "plt.bar(x,[y_win[1],y_win[0]],width = 0.15,color='b')\n",
    "for xt, yt in zip(x, [y_win[1],y_win[0]]):\n",
    "    plt.text(xt, yt+10 , yt, ha='center', va='bottom',fontsize=20)\n",
    "plt.savefig('C:/Users/HARRY/Desktop/win_loss.png')\n",
    "plt.show()"
   ]
  },
  {
   "cell_type": "code",
   "execution_count": 7,
   "metadata": {},
   "outputs": [
    {
     "data": {
      "image/png": "[encoded data removed]",
      "text/plain": [
       "<Figure size 720x720 with 1 Axes>"
      ]
     },
     "metadata": {},
     "output_type": "display_data"
    }
   ],
   "source": [
    "jud1052_1 = pd.value_counts(df['1052-1'])\n",
    "jud1052_2 = pd.value_counts(df['1052-2'])\n",
    "x_10521 = ['1052-1','1052-2']\n",
    "plt.figure(figsize=(10,10))\n",
    "plt.bar(x_10521,[jud1052_1[1],jud1052_2[1]],width = 0.1,color='purple')\n",
    "for xt, yt in zip(x_10521, [jud1052_1[1],jud1052_2[1]]):\n",
    "    plt.text(xt, yt , yt, ha='center', va='bottom',fontsize=20)\n",
    "plt.yticks([0,13000])\n",
    "plt.savefig('C:/Users/HARRY/Desktop/1052_1_2.png')\n",
    "plt.show()"
   ]
  },
  {
   "cell_type": "code",
   "execution_count": 8,
   "metadata": {},
   "outputs": [
    {
     "data": {
      "image/png": "[encoded data removed]",
      "text/plain": [
       "<Figure size 1440x720 with 1 Axes>"
      ]
     },
     "metadata": {},
     "output_type": "display_data"
    }
   ],
   "source": [
    "x = list()\n",
    "y = list()\n",
    "cols = df.columns[6:16]\n",
    "x = cols\n",
    "for c in cols:\n",
    "    y.append(pd.value_counts(df[c])[1])\n",
    "plt.figure(figsize=(20,10))\n",
    "plt.title('Amount in 1052-1')\n",
    "plt.bar(x,y,color = 'g')\n",
    "for xt, yt in zip(x, y):\n",
    "    plt.text(xt, yt+10 , yt, ha='center', va='bottom',fontsize=20)\n",
    "plt.savefig('C:/Users/HARRY/Desktop/1052_1_amount.png')\n",
    "plt.show()"
   ]
  },
  {
   "cell_type": "code",
   "execution_count": 9,
   "metadata": {},
   "outputs": [
    {
     "data": {
      "image/png": "[encoded data removed]",
      "text/plain": [
       "<Figure size 1440x720 with 1 Axes>"
      ]
     },
     "metadata": {},
     "output_type": "display_data"
    },
    {
     "data": {
      "text/plain": [
       "9058"
      ]
     },
     "execution_count": 9,
     "metadata": {},
     "output_type": "execute_result"
    }
   ],
   "source": [
    "import numpy as np\n",
    "x = list()\n",
    "y = list()\n",
    "cols = df.columns[16::]\n",
    "x = cols\n",
    "for c in cols:\n",
    "    y.append(pd.value_counts(df[c])[1])\n",
    "plt.figure(figsize=(20,10))\n",
    "plt.title('Amount in 1052-2')\n",
    "plt.bar(x,y,color = 'r',width = 0.35)\n",
    "for xt, yt in zip(x, y):\n",
    "    plt.text(xt, yt+10 , yt, ha='center', va='bottom',fontsize=20)\n",
    "plt.savefig('C:/Users/HARRY/Desktop/1052_2_amount.png')\n",
    "plt.show()\n",
    "sum(y)"
   ]
  },
  {
   "cell_type": "code",
   "execution_count": 10,
   "metadata": {},
   "outputs": [
    {
     "data": {
      "text/plain": [
       "(0.2593893922750802, -4471.83329652997)"
      ]
     },
     "execution_count": 10,
     "metadata": {},
     "output_type": "execute_result"
    }
   ],
   "source": [
    "from sklearn.linear_model import LinearRegression\n",
    "x = [21914,21501,21516,20600,19492,19701,19988,20359]\n",
    "y = []\n",
    "cond1 = df['1052-1-5'] == 1\n",
    "for year in range(100,108):\n",
    "    cond2 = df['judfile'] == 'jud{}'.format(year)\n",
    "    y.append(len(df[cond1&cond2]))\n",
    "x = np.array(x)\n",
    "y = np.array(y)\n",
    "reg = LinearRegression()\n",
    "reg.fit(x.reshape(-1,1),y)\n",
    "reg.coef_[0],reg.intercept_"
   ]
  },
  {
   "cell_type": "code",
   "execution_count": 11,
   "metadata": {},
   "outputs": [
    {
     "name": "stdout",
     "output_type": "stream",
     "text": [
      "                            OLS Regression Results                            \n",
      "==============================================================================\n",
      "Dep. Variable:                      y   R-squared:                       0.736\n",
      "Model:                            OLS   Adj. R-squared:                  0.692\n",
      "Method:                 Least Squares   F-statistic:                     16.72\n",
      "Date:                Sun, 23 Jun 2019   Prob (F-statistic):            0.00643\n",
      "Time:                        00:43:16   Log-Likelihood:                -50.457\n",
      "No. Observations:                   8   AIC:                             104.9\n",
      "Df Residuals:                       6   BIC:                             105.1\n",
      "Df Model:                           1                                         \n",
      "Covariance Type:            nonrobust                                         \n",
      "==============================================================================\n",
      "                 coef    std err          t      P>|t|      [0.025      0.975]\n",
      "------------------------------------------------------------------------------\n",
      "const      -4471.8333   1309.859     -3.414      0.014   -7676.943   -1266.724\n",
      "x1             0.2594      0.063      4.090      0.006       0.104       0.415\n",
      "==============================================================================\n",
      "Omnibus:                        0.248   Durbin-Watson:                   1.388\n",
      "Prob(Omnibus):                  0.883   Jarque-Bera (JB):                0.379\n",
      "Skew:                          -0.250   Prob(JB):                        0.827\n",
      "Kurtosis:                       2.059   Cond. No.                     4.99e+05\n",
      "==============================================================================\n",
      "\n",
      "Warnings:\n",
      "[1] Standard Errors assume that the covariance matrix of the errors is correctly specified.\n",
      "[2] The condition number is large, 4.99e+05. This might indicate that there are\n",
      "strong multicollinearity or other numerical problems.\n"
     ]
    },
    {
     "name": "stderr",
     "output_type": "stream",
     "text": [
      "c:\\users\\harry\\appdata\\local\\programs\\python\\python36\\lib\\site-packages\\scipy\\stats\\stats.py:1390: UserWarning: kurtosistest only valid for n>=20 ... continuing anyway, n=8\n",
      "  \"anyway, n=%i\" % int(n))\n"
     ]
    }
   ],
   "source": [
    "ols = sm.add_constant(x)\n",
    "est = sm.OLS(y, ols)\n",
    "info = est.fit()\n",
    "print(info.summary())"
   ]
  },
  {
   "cell_type": "markdown",
   "metadata": {},
   "source": [
    "## 最後補上一些可用的function，如果照以上步驟一步一步下來不會完全得到與我們一模一樣的結果，因為過程中有去刪剪一些無法控制的判決書(字詞定義不對、語句錯誤等等)，會稍有不同"
   ]
  },
  {
   "cell_type": "markdown",
   "metadata": {},
   "source": [
    "### 自訂mask條件去過濾有問題的data"
   ]
  },
  {
   "cell_type": "code",
   "execution_count": null,
   "metadata": {},
   "outputs": [],
   "source": [
    "mask1 = df['win'] == 1\n",
    "mask2 = df['win'] == 0\n",
    "problem = df[(mask1 & mask2)]\n",
    "problem\n",
    "removeid = problem.index\n",
    "removeid = list(removeid)\n",
    "data = pd.read_csv(path of csv)\n",
    "df = pd.DataFrame(data)\n",
    "df = df.drop(index=removeid)\n",
    "df.to_csv(path of csv,encoding='utf_8_sig',index=False) "
   ]
  },
  {
   "cell_type": "markdown",
   "metadata": {},
   "source": [
    "# 有疑問請mail : harry860109@gmail.com"
   ]
  },
  {
   "cell_type": "code",
   "execution_count": null,
   "metadata": {},
   "outputs": [],
   "source": []
  }
 ],
 "metadata": {
  "kernelspec": {
   "display_name": "Python 3",
   "language": "python",
   "name": "python3"
  },
  "language_info": {
   "codemirror_mode": {
    "name": "ipython",
    "version": 3
   },
   "file_extension": ".py",
   "mimetype": "text/x-python",
   "name": "python",
   "nbconvert_exporter": "python",
   "pygments_lexer": "ipython3",
   "version": "3.6.4"
  }
 },
 "nbformat": 4,
 "nbformat_minor": 2
}
